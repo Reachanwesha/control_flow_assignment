{
 "cells": [
  {
   "cell_type": "code",
   "execution_count": 2,
   "id": "424fa44f",
   "metadata": {},
   "outputs": [
    {
     "name": "stdout",
     "output_type": "stream",
     "text": [
      "enter a number:-8\n",
      "n is negative number\n"
     ]
    }
   ],
   "source": [
    "#Write a Python program to check if a given number is positive or negative.\n",
    "n = int(input('enter a number:'))\n",
    "if n >= 1:\n",
    "    print('n is a positive number')\n",
    "else:\n",
    "    print('n is negative number')"
   ]
  },
  {
   "cell_type": "code",
   "execution_count": 3,
   "id": "2bdb2163",
   "metadata": {},
   "outputs": [
    {
     "name": "stdout",
     "output_type": "stream",
     "text": [
      "enter your age: 8\n",
      "not eligible\n"
     ]
    }
   ],
   "source": [
    "#Create a program that determines if a person is eligible to vote based on their age.\n",
    "age=int(input('enter your age: '))\n",
    "if age >=18:\n",
    "    print('eligible for voting')\n",
    "else:\n",
    "    print('not eligible')"
   ]
  },
  {
   "cell_type": "code",
   "execution_count": 7,
   "id": "9188c778",
   "metadata": {},
   "outputs": [
    {
     "name": "stdout",
     "output_type": "stream",
     "text": [
      "enter a num2\n",
      "enter a num4\n",
      "4 is greater than  2\n"
     ]
    }
   ],
   "source": [
    "#3. Develop a program to find the maximum of two numbers using if-else statements.\n",
    "num1=int(input('enter a num'))\n",
    "num2=int(input('enter a num'))\n",
    "if num1>num2:\n",
    "    print(num1, 'is >', num2)\n",
    "else:\n",
    "    print(num2, 'is greater than ', num1)"
   ]
  },
  {
   "cell_type": "code",
   "execution_count": 8,
   "id": "29ae767c",
   "metadata": {},
   "outputs": [
    {
     "name": "stdout",
     "output_type": "stream",
     "text": [
      "Enter a year: 1999\n",
      "1999 is not a leap year\n"
     ]
    }
   ],
   "source": [
    "#Write a Python script to classify a given year as a leap year or not.\n",
    "year = int(input(\"Enter a year: \"))\n",
    "if (year % 400 == 0) and (year % 100 == 0):\n",
    "    print(\"{0} is a leap year\".format(year))\n",
    "elif (year % 4 ==0) and (year % 100 != 0):\n",
    "    print(\"{0} is a leap year\".format(year))\n",
    "else:\n",
    "    print(\"{0} is not a leap year\".format(year))"
   ]
  },
  {
   "cell_type": "code",
   "execution_count": 17,
   "id": "3e299660",
   "metadata": {},
   "outputs": [
    {
     "name": "stdout",
     "output_type": "stream",
     "text": [
      "enter a character a\n",
      "enter char is a vowel\n"
     ]
    }
   ],
   "source": [
    "#5. Create a program that checks whether a character is a vowel or a consonant.\n",
    "char = str(input('enter a character '))\n",
    "vowel = ['a','e','i','o','u']\n",
    "for i in char:\n",
    "    for j in vowel:\n",
    "        if (i==j):\n",
    "            print('enter char is a vowel')\n",
    "            break;\n",
    "        else:\n",
    "            print('enter char is a consonant')"
   ]
  },
  {
   "cell_type": "code",
   "execution_count": 18,
   "id": "d56b359d",
   "metadata": {},
   "outputs": [
    {
     "name": "stdout",
     "output_type": "stream",
     "text": [
      "enter a num2\n",
      "2 is even\n"
     ]
    }
   ],
   "source": [
    "#Implement a program to determine whether a given number is even or odd.\n",
    "num1=int(input('enter a num'))\n",
    "if num1%2==0:\n",
    "    print(num1, 'is even')\n",
    "else:\n",
    "    print(num1, 'is odd')"
   ]
  },
  {
   "cell_type": "code",
   "execution_count": 34,
   "id": "341dd1ac",
   "metadata": {},
   "outputs": [
    {
     "name": "stdout",
     "output_type": "stream",
     "text": [
      "enter a num-23\n",
      "23\n"
     ]
    }
   ],
   "source": [
    "#Write a Python function to calculate the absolute value of a number without using the `abs()` function.\n",
    "num1=int(input('enter a num'))\n",
    "if num1>0:\n",
    "    print(num1)\n",
    "else:\n",
    "    print(-num1)"
   ]
  },
  {
   "cell_type": "code",
   "execution_count": 38,
   "id": "f4c05a3f",
   "metadata": {},
   "outputs": [
    {
     "name": "stdout",
     "output_type": "stream",
     "text": [
      "enter a num23\n",
      "enter a num345\n",
      "enter a num32\n",
      "345 is greater than 23 and 32\n"
     ]
    }
   ],
   "source": [
    "#Develop a program that determines the largest of three given numbers using if-else statements.\n",
    "num1=int(input('enter a num'))\n",
    "num2=int(input('enter a num'))\n",
    "num3=int(input('enter a num'))\n",
    "if num1>num2 and num2>num3:\n",
    "    print(num1,'is greater than',num2 ,'and', num3)\n",
    "elif num2>num1 and num2>num3:\n",
    "    print(num2, 'is greater than', num1 ,'and', num3)\n",
    "else:\n",
    "    print(num3,'is greater than', num1, 'and',num2)"
   ]
  },
  {
   "cell_type": "code",
   "execution_count": 44,
   "id": "fd0ab85e",
   "metadata": {},
   "outputs": [
    {
     "name": "stdout",
     "output_type": "stream",
     "text": [
      "enter a string ertyhgf\n",
      "not a palindrome\n"
     ]
    }
   ],
   "source": [
    "#Create a program that checks if a given string is a palindrome.\n",
    "strng = input('enter a string ')\n",
    "palin_str = strng[::-1]\n",
    "if (strng==palin_str):\n",
    "    print(palin_str)\n",
    "    print('yes the string is palindrome')\n",
    "else:\n",
    "    print('not a palindrome')"
   ]
  },
  {
   "cell_type": "code",
   "execution_count": 48,
   "id": "92580f1b",
   "metadata": {},
   "outputs": [
    {
     "name": "stdout",
     "output_type": "stream",
     "text": [
      "enter a score45\n",
      "score is B\n"
     ]
    }
   ],
   "source": [
    "#Write a Python program to calculate the grade based on a student's score.\n",
    "score=int(input('enter a score'))\n",
    "if score<=33:\n",
    "    print('score is D')\n",
    "elif score <40:\n",
    "    print('score is C')\n",
    "elif score <60:\n",
    "    print('score is B')\n",
    "elif score <=80:\n",
    "    print('score is A')\n",
    "else:\n",
    "    print('score is A+')\n"
   ]
  },
  {
   "cell_type": "markdown",
   "id": "5eb94104",
   "metadata": {},
   "source": [
    "# nested-if else:"
   ]
  },
  {
   "cell_type": "code",
   "execution_count": 7,
   "id": "63abe931",
   "metadata": {},
   "outputs": [
    {
     "name": "stdout",
     "output_type": "stream",
     "text": [
      "enter a num 23\n",
      "enter a num 4\n",
      "enter a num 67\n",
      "67 is greater than 23 and 4\n"
     ]
    }
   ],
   "source": [
    "#Write a program to find the largest among three numbers using nested if-else statements.\n",
    "num1=int(input('enter a num '))\n",
    "num2=int(input('enter a num '))\n",
    "num3=int(input('enter a num '))\n",
    "if num1>num2:\n",
    "    if num2>num3:\n",
    "        print(num1,'is greater than',num2 ,'and', num3)\n",
    "    if num2>num1:\n",
    "        if num2>num3:\n",
    "            print(num2, 'is greater than', num1 ,'and', num3)\n",
    "    else:\n",
    "        print(num3,'is greater than', num1, 'and',num2) "
   ]
  },
  {
   "cell_type": "code",
   "execution_count": 128,
   "id": "d157219f",
   "metadata": {},
   "outputs": [
    {
     "name": "stdout",
     "output_type": "stream",
     "text": [
      "enter the height 24\n",
      "enter the base 6\n",
      "enter the hypotenuse 6\n",
      "isoceles triangle\n"
     ]
    }
   ],
   "source": [
    "#12. Implement a program to determine if a triangle is equilateral, isosceles, or scalene.\n",
    "l = int(input('enter the height '))\n",
    "b = int(input('enter the base '))\n",
    "hypo = int(input('enter the hypotenuse '))\n",
    "if (l==b==hypo):\n",
    "    print('equilateral triangle')\n",
    "if (l==b or b==hypo and\n",
    "    l==hypo or b==hypo):\n",
    "    print('isoceles triangle')\n",
    "else:\n",
    "    print('scalene triangle')"
   ]
  },
  {
   "cell_type": "code",
   "execution_count": 28,
   "id": "32d103c2",
   "metadata": {},
   "outputs": [
    {
     "name": "stdout",
     "output_type": "stream",
     "text": [
      "Enter a year: 1904\n"
     ]
    }
   ],
   "source": [
    "#Develop a program that checks if a year is a leap year and also if it is a century year.\n",
    "year = int(input(\"Enter a year: \"))\n",
    "if (year % 400 == 0) and (year % 100 == 0):\n",
    "    print(\"{0} is a century and a leap year \".format(year))\n",
    "    if (year % 4 ==0) :\n",
    "        if (year % 100 != 0):\n",
    "            print(\"{0} is a leap year\".format(year))\n",
    "        else:\n",
    "            print(\"{0} is not a leap year\".format(year))"
   ]
  },
  {
   "cell_type": "code",
   "execution_count": 38,
   "id": "8f075f77",
   "metadata": {},
   "outputs": [
    {
     "name": "stdout",
     "output_type": "stream",
     "text": [
      "enter a number -9\n",
      "-9 is negative\n",
      "-9 is not zero\n"
     ]
    }
   ],
   "source": [
    "#Write a Python script to determine if a number is positive, negative, or zero.\n",
    "num = int(input('enter a number '))\n",
    "if num < 1:\n",
    "    print(num,'is negative')\n",
    "    if num == 0:\n",
    "        print(num,'is zero')\n",
    "        if num > 1:\n",
    "            print(num,'is positive')\n",
    "        else:\n",
    "            print(num,'is not positive')\n",
    "    else:\n",
    "        print(num, 'is not zero')\n",
    "else:\n",
    "    print(num,'is non-negative')"
   ]
  },
  {
   "cell_type": "code",
   "execution_count": 44,
   "id": "c94119da",
   "metadata": {},
   "outputs": [
    {
     "name": "stdout",
     "output_type": "stream",
     "text": [
      "enter your age 15\n",
      "teenager\n"
     ]
    }
   ],
   "source": [
    "#Create a program to check if a person is a teenager (between 13 and 19 years old).\n",
    "age=int(input('enter your age '))\n",
    "if (13<=age<=19):\n",
    "    print('teenager')\n",
    "else:\n",
    "    if age>19:\n",
    "        print('adult')\n",
    "    else:\n",
    "        age<=13\n",
    "        print('baby')"
   ]
  },
  {
   "cell_type": "code",
   "execution_count": 49,
   "id": "5a73c762",
   "metadata": {},
   "outputs": [
    {
     "name": "stdout",
     "output_type": "stream",
     "text": [
      "enter your angle 30\n",
      "acute triangle\n"
     ]
    }
   ],
   "source": [
    "#Develop a program that determines the type of angle based on its measure (acute, obtuse, or right).\n",
    "angle = int(input('enter your angle '))\n",
    "if angle==90:\n",
    "    print('right angle triangle')\n",
    "else:\n",
    "    if angle < 90:\n",
    "        print('acute triangle')\n",
    "    else:\n",
    "        if angle>90:\n",
    "            print('obtuse triangle')\n",
    "       \n",
    "    "
   ]
  },
  {
   "cell_type": "code",
   "execution_count": 60,
   "id": "d2653b09",
   "metadata": {},
   "outputs": [
    {
     "name": "stdout",
     "output_type": "stream",
     "text": [
      "a= 5\n",
      "b= 5\n",
      "c= 5\n",
      "14.142135623730951j\n",
      "13.228756555322953\n"
     ]
    }
   ],
   "source": [
    "#Write a Python program to calculate the roots of a quadratic equation.\n",
    "a=int(input('a= '))\n",
    "b=int(input('b= '))\n",
    "c=int(input('c= '))\n",
    "dis_0 = -b + (b*b - 4*a*c)\n",
    "dis_1 = -b - (b*b - 4*a*c)\n",
    "eqn_0=dis_0/2*a\n",
    "eqn_1=dis_1/2*a\n",
    "import numpy as np\n",
    "print(np.emath.sqrt(eqn_0))\n",
    "print(np.emath.sqrt(eqn_1))\n",
    "\n",
    "\n"
   ]
  },
  {
   "cell_type": "code",
   "execution_count": 66,
   "id": "f8801cbc",
   "metadata": {},
   "outputs": [
    {
     "name": "stdout",
     "output_type": "stream",
     "text": [
      "enter the day of the week from 1-7: 7\n",
      "Sunday is funday\n"
     ]
    }
   ],
   "source": [
    "#Implement a program to determine the day of the week based on a user-provided number (1 for Monday, 2\n",
    "#for Tuesday, etc.).\n",
    "gues_day = int(input('enter the day of the week from 1-7: '))\n",
    "if (gues_day == 1):\n",
    "    print('monday')\n",
    "elif (gues_day == 2):\n",
    "    print('tuesday')\n",
    "elif (gues_day == 3):\n",
    "    print('wednesday')\n",
    "elif (gues_day == 4):\n",
    "    print('thursday')\n",
    "elif (gues_day == 5):\n",
    "    print('Friday')\n",
    "elif (gues_day == 6):\n",
    "    print('Saturday')\n",
    "elif (gues_day == 7):\n",
    "    print('Sunday is funday')\n",
    "else:\n",
    "    print('enter valid number from (1-7)')"
   ]
  },
  {
   "cell_type": "code",
   "execution_count": 68,
   "id": "f3755722",
   "metadata": {},
   "outputs": [
    {
     "name": "stdout",
     "output_type": "stream",
     "text": [
      "Enter the number: 1989\n",
      "Given Year is not a leap Year\n"
     ]
    }
   ],
   "source": [
    "#Create a program that determines if a year is a leap year and also if it is evenly divisible by 400.\n",
    "def CheckLeap(Year):  \n",
    "    if((Year % 400 == 0) or  \n",
    "      (Year % 100 != 0) and  \n",
    "      (Year % 4 == 0)):   \n",
    "        print(\"Given Year is a leap Year\");  \n",
    "    else:  \n",
    "        print (\"Given Year is not a leap Year\")  \n",
    "\n",
    "Year = int(input(\"Enter the number: \"))   \n",
    "CheckLeap(Year)"
   ]
  },
  {
   "cell_type": "code",
   "execution_count": 74,
   "id": "44db8c96",
   "metadata": {},
   "outputs": [
    {
     "data": {
      "text/plain": [
       "False"
      ]
     },
     "execution_count": 74,
     "metadata": {},
     "output_type": "execute_result"
    }
   ],
   "source": [
    "#Develop a program that checks if a given number is prime or not using nested if-else statements.\n",
    "def check_prime(n):\n",
    "    if n<=0:\n",
    "        print(1)\n",
    "    else:\n",
    "        for i in (2,int(n+1)):\n",
    "            if n%i==0:\n",
    "                return False\n",
    "        return True\n",
    "check_prime(4)"
   ]
  },
  {
   "cell_type": "markdown",
   "id": "b495bd41",
   "metadata": {},
   "source": [
    "# elif statements"
   ]
  },
  {
   "cell_type": "code",
   "execution_count": 84,
   "id": "864bdeff",
   "metadata": {},
   "outputs": [],
   "source": [
    "#Write a Python program to assign grades based on different ranges of scores using elif statements.\n",
    "\n",
    "score=int(input('enter your exam score:'))\n",
    "if score<=0:\n",
    "    print('enter valid input')\n",
    "elif score<=33:\n",
    "    print('you have failed the exam, grade E')\n",
    "elif 33<score<60:\n",
    "    print('garde C')\n",
    "elif 60<score<70:\n",
    "    print('grade B')\n",
    "elif score<=80:\n",
    "    print('grade A')\n",
    "else:\n",
    "    print('Grade A+') "
   ]
  },
  {
   "cell_type": "code",
   "execution_count": 37,
   "id": "4ced0c6e",
   "metadata": {},
   "outputs": [
    {
     "name": "stdout",
     "output_type": "stream",
     "text": [
      "enter first angle:20\n",
      "enter second angle:20\n",
      "enter third angle:3\n",
      "isoscales triangle\n"
     ]
    }
   ],
   "source": [
    "#22. Implement a program to determine the type of a triangle based on its angles.\n",
    "angle_1 = int(input('enter first angle:'))\n",
    "angle_2 = int(input('enter second angle:'))\n",
    "angle_3 = int(input('enter third angle:'))\n",
    "if angle_1==angle_2:\n",
    "    print('isoscales triangle')\n",
    "elif angle_1 != angle_2 != angle_3:\n",
    "    print('scalene triangle')\n",
    "else:\n",
    "    print('equilateral triangle')\n",
    "\n"
   ]
  },
  {
   "cell_type": "code",
   "execution_count": 88,
   "id": "91d2eec9",
   "metadata": {},
   "outputs": [
    {
     "name": "stdout",
     "output_type": "stream",
     "text": [
      "enter your weight23.9\n",
      "heslthy weight range\n"
     ]
    }
   ],
   "source": [
    "#Develop a program to categorize a given person's BMI into underweight, normal, overweight, or obese using\n",
    "#elif statements.\n",
    "weight= float(input('enter your weight'))\n",
    "if weight<=18.5:\n",
    "    print('under weight')\n",
    "elif 18.5<=weight<=24.9:\n",
    "    print('healthy weight range')\n",
    "elif  25.0<=weight<=29.9:\n",
    "    print('over weight')\n",
    "else:\n",
    "    print('enter valid BMI range')\n"
   ]
  },
  {
   "cell_type": "code",
   "execution_count": 90,
   "id": "0bde18b0",
   "metadata": {},
   "outputs": [
    {
     "name": "stdout",
     "output_type": "stream",
     "text": [
      "enter a number:0\n",
      "0 is a zero\n"
     ]
    }
   ],
   "source": [
    "#24. Create a program that determines whether a given number is positive, negative, or zero using elif\n",
    "#statements.\n",
    "n = int(input('enter a number:'))\n",
    "if n >= 1:\n",
    "    print('n is a positive number')\n",
    "elif n==0:\n",
    "    print(n, 'is a zero')\n",
    "else:\n",
    "    print('n is negative number')"
   ]
  },
  {
   "cell_type": "code",
   "execution_count": 157,
   "id": "b7268532",
   "metadata": {},
   "outputs": [
    {
     "name": "stdout",
     "output_type": "stream",
     "text": [
      "enter your charecter: sdf\n",
      "False\n"
     ]
    }
   ],
   "source": [
    "#Write a Python script to determine the type of a character (uppercase, lowercase, or special) using elif\n",
    "#statements.\n",
    "char=str(input('enter your charecter: '))\n",
    "sp=['@','*','!']\n",
    "CHR=char.isupper()\n",
    "print(CHR)\n"
   ]
  },
  {
   "cell_type": "code",
   "execution_count": 40,
   "id": "d2306785",
   "metadata": {},
   "outputs": [
    {
     "name": "stdout",
     "output_type": "stream",
     "text": [
      "enter your string : AD$\n",
      "special case\n",
      "upper case\n"
     ]
    }
   ],
   "source": [
    "char=str(input('enter your string : '))\n",
    "sp=\"#@$%^&*\"\n",
    "up=char.upper()\n",
    "for i in char:\n",
    "    for j in sp:\n",
    "        if (i==j):\n",
    "            print('special case')\n",
    "if(char==up):\n",
    "    print('upper case')\n",
    "    \n",
    "elif:\n",
    "    print('lower case')\n",
    "      \n",
    "        \n",
    "    "
   ]
  },
  {
   "cell_type": "code",
   "execution_count": null,
   "id": "2f8f2a45",
   "metadata": {},
   "outputs": [],
   "source": [
    "#Implement a program to calculate the discounted price based on different purchase amounts using elif\n",
    "#statements.\n",
    "mylist = ['biscuit-20','atta-80','rice-500','olive oil-1500','shampoo-1900','veggies-1000']\n",
    "mrp = float(input('enter minimum retail price for the item in your cart : '))\n",
    "print('price list:',mrp)\n",
    "count=0\n",
    "for i in mylist:\n",
    "    print(i)\n",
    "    count=count+1\n",
    "    discount_amount=float(input('enter the amount you want to give discount: '))\n",
    "    discount_price=(mrp-discount_amount)\n",
    "    print(\"after a discount your amount is:\",discount_price)\n",
    "    \n"
   ]
  },
  {
   "cell_type": "code",
   "execution_count": null,
   "id": "7361610d",
   "metadata": {},
   "outputs": [],
   "source": []
  },
  {
   "cell_type": "code",
   "execution_count": 3,
   "id": "73ed8f2e",
   "metadata": {},
   "outputs": [
    {
     "name": "stdout",
     "output_type": "stream",
     "text": [
      "enter the units of electricity consumed: 45\n",
      "consumption slab is more than 8 units:\n",
      "292.5\n"
     ]
    }
   ],
   "source": [
    "#27. Develop a program to calculate the electricity bill based on different \n",
    "#consumption slabs using elif statements.\n",
    "consumption_slab=0\n",
    "consumption_slab=float(input('enter the units of electricity consumed: ' ))\n",
    "#6.50/unit\n",
    "if (consumption_slab <= 8 ):\n",
    "    print('consumption slab is less than/equal to 8 units:')\n",
    "    price = (6.50*consumption_slab)\n",
    "    print('price = ', price )\n",
    "elif consumption_slab >8 :\n",
    "    print('consumption slab is more than 8 units:')\n",
    "    price=(6.50*consumption_slab)\n",
    "    print(price)\n",
    "elif consumption_slab <= 20:\n",
    "    print('consumption slab is more than or equal to 20 units:')\n",
    "    price = (6.50 *consumption_slab)\n",
    "    print(price)\n",
    "else:\n",
    "    print(price=consumption_slab*6.50)"
   ]
  },
  {
   "cell_type": "code",
   "execution_count": null,
   "id": "62a6fce7",
   "metadata": {},
   "outputs": [],
   "source": []
  },
  {
   "cell_type": "code",
   "execution_count": 13,
   "id": "f37c927c",
   "metadata": {},
   "outputs": [
    {
     "name": "stdout",
     "output_type": "stream",
     "text": [
      "enter first angle of the quadilateral:90\n",
      "enter second angle of the quadilateral:90\n",
      "enter third angle of the quadilateral:120\n",
      "enter fourth angle of the quadilateral:80\n",
      "the quadilateral is a trapezium\n"
     ]
    }
   ],
   "source": [
    "#Create a program to determine the type of quadrilateral based on its angles and sides using elif\n",
    "#statements.\n",
    "angle_1 = int(input('enter first angle of the quadilateral:'))\n",
    "angle_2 = int(input('enter second angle of the quadilateral:'))\n",
    "angle_3 = int(input('enter third angle of the quadilateral:'))\n",
    "angle_4 = int(input('enter fourth angle of the quadilateral:'))\n",
    "if (angle_1==angle_2==angle_3==angle_4 == 360) and (angle_1+angle_2+angle_3+angle_4 == 360):\n",
    "    print('quadilateral is a square')\n",
    "elif (angle_1 == angle_3 and angle_2 == angle_4) and (angle_1+angle_2+angle_3+angle_4 == 360) :\n",
    "    print(\"the quadilateral is a parallelogram\")\n",
    "elif (angle_1+angle_2==180 or angle_3+angle_4==180 or angle_2+angle_3==180 or angle_1+angle_4==180):\n",
    "    print(\"the quadilateral is a trapezium\")\n",
    "else:\n",
    "    print('enter valid angles')"
   ]
  },
  {
   "cell_type": "code",
   "execution_count": 37,
   "id": "b9e455e9",
   "metadata": {},
   "outputs": [
    {
     "name": "stdout",
     "output_type": "stream",
     "text": [
      "enter the month: september\n",
      "rainy season\n",
      "enter valid input\n"
     ]
    }
   ],
   "source": [
    "#Write a Python script to determine the season based on a user-provided month \n",
    "#using elif statements.\n",
    "month = str(input(\"enter the month: \"))\n",
    "winter = ['december','january','february']\n",
    "summer = ['april','may','june']\n",
    "rainy = ['july','august','september']\n",
    "autum = ['october']\n",
    "spring = ['march']\n",
    "\n",
    "for i in winter:\n",
    "    if i==month:\n",
    "        print('season is winter')\n",
    "for i in summer:\n",
    "    if i==month:\n",
    "        print('season is summer')\n",
    "for i in rainy:\n",
    "    if i == month:\n",
    "        print('rainy season')\n",
    "for i in autum :\n",
    "    if i == month:\n",
    "        print('autum season')\n",
    "for i in spring:\n",
    "    if i==month:\n",
    "        print('season is spring')\n",
    "\n"
   ]
  },
  {
   "cell_type": "code",
   "execution_count": 13,
   "id": "e2244837",
   "metadata": {},
   "outputs": [
    {
     "name": "stdout",
     "output_type": "stream",
     "text": [
      "enter a month : January\n",
      "January has 31 days\n",
      "enter a year :2009\n",
      "not a leap year\n"
     ]
    }
   ],
   "source": [
    "#30. Implement a program to determine the type of a year (leap or common) and \n",
    "#month (30 or 31 days) using elif statements.\n",
    "month_30=['april','june','september','november']\n",
    "month_31=[ 'January', 'March', 'May', 'July', 'August', 'October', ' December']\n",
    "month=input('enter a month : ')\n",
    "for i in month_30:\n",
    "    if i==month:\n",
    "        print(month, 'has 30 days')\n",
    "for j in month_31:\n",
    "    if j ==month:\n",
    "        print(month, 'has 31 days')\n",
    "year=int(input('enter a year :'))\n",
    "if year%4==0 and year%100!=0:\n",
    "    print(year,'is leap year')\n",
    "elif year%400==0 and year%100==0:\n",
    "    print(year,'leap year')\n",
    "else:\n",
    "    print('not a leap year')\n",
    "        \n",
    "    \n"
   ]
  },
  {
   "cell_type": "raw",
   "id": "ea729f8f",
   "metadata": {},
   "source": [
    "BASIC LEVEL\n"
   ]
  },
  {
   "cell_type": "code",
   "execution_count": 17,
   "id": "8f7bedc6",
   "metadata": {},
   "outputs": [
    {
     "name": "stdout",
     "output_type": "stream",
     "text": [
      "enter a number: 2\n",
      "2 is +ve\n"
     ]
    }
   ],
   "source": [
    "#1. Write a Python program that checks if a given number is positive, negative, or zero.\n",
    "integer = int(input('enter a number: '))\n",
    "try:\n",
    "    \n",
    "    if integer>0:\n",
    "        print(integer, 'is +ve')\n",
    "    elif integer==0:\n",
    "        print(integer,'is zero')\n",
    "    else:\n",
    "        print(integer, 'is -ve')\n",
    "except Exception as e:\n",
    "    print(e)"
   ]
  },
  {
   "cell_type": "code",
   "execution_count": 19,
   "id": "35ec3741",
   "metadata": {},
   "outputs": [
    {
     "name": "stdout",
     "output_type": "stream",
     "text": [
      "enter your age: -3\n",
      "enter valid input\n"
     ]
    }
   ],
   "source": [
    "#Create a program to determine if a person is eligible to vote based on their age.\n",
    "age = int(input('enter your age: '))\n",
    "if age==0 or age<0:\n",
    "    print('enter valid input')\n",
    "elif age>=18:\n",
    "    print('eligible to vote')\n"
   ]
  },
  {
   "cell_type": "code",
   "execution_count": 21,
   "id": "7d09c1a3",
   "metadata": {},
   "outputs": [
    {
     "name": "stdout",
     "output_type": "stream",
     "text": [
      "enter your number:0\n",
      "enter your second number: 8\n",
      "8 is greater than 0\n"
     ]
    }
   ],
   "source": [
    "#Write a program to find the maximum of two given numbers using conditional statements.\\\n",
    "integer1=int(input('enter your number:'))\n",
    "integer2=int(input('enter your second number: '))\n",
    "if integer<0:\n",
    "    print('enter valid input')\n",
    "elif integer1>integer2:\n",
    "    print(integer1, 'is greater than', integer2)\n",
    "else:\n",
    "    print(integer2,'is greater than', integer1)\n",
    "    "
   ]
  },
  {
   "cell_type": "code",
   "execution_count": 31,
   "id": "49bc6344",
   "metadata": {},
   "outputs": [
    {
     "name": "stdout",
     "output_type": "stream",
     "text": [
      "enter your exam score:99\n",
      "Grade A+\n"
     ]
    }
   ],
   "source": [
    "#Develop a program that calculates the grade of a student based on their exam score.\n",
    "score=int(input('enter your exam score:'))\n",
    "if score<=0:\n",
    "    print('enter valid input')\n",
    "elif score<=33:\n",
    "    print('you have failed the exam, grade E')\n",
    "elif 33<score<60:\n",
    "    print('garde C')\n",
    "elif 60<score<70:\n",
    "    print('grade B')\n",
    "elif score<=80:\n",
    "    print('grade A')\n",
    "else:\n",
    "    print('Grade A+')"
   ]
  },
  {
   "cell_type": "code",
   "execution_count": 33,
   "id": "d48f0c3a",
   "metadata": {},
   "outputs": [
    {
     "name": "stdout",
     "output_type": "stream",
     "text": [
      "enter year2000\n",
      "2000 is a leap year\n"
     ]
    }
   ],
   "source": [
    "#Create a program that checks if a year is a leap year or not.\n",
    "\n",
    "year = int(input('enter year'))\n",
    "if year%400==0 and year%100==0:\n",
    "    print(year,'is a leap year')\n",
    "elif year%4==0 and year%100!=0:\n",
    "    print(year,'leap year')"
   ]
  },
  {
   "cell_type": "code",
   "execution_count": 34,
   "id": "506cfde3",
   "metadata": {},
   "outputs": [
    {
     "name": "stdout",
     "output_type": "stream",
     "text": [
      "enter the height 10\n",
      "enter the base2\n",
      "enter the hypotenuse 3\n",
      "scalene\n"
     ]
    }
   ],
   "source": [
    "#Write a program to classify a triangle based on its sides' lengths.\n",
    "l = int(input('enter the height '))\n",
    "b = int(input('enter the base'))\n",
    "hypo = int(input('enter the hypotenuse '))\n",
    "if (l==b or\n",
    "    b==hypo or\n",
    "    hypo==l):\n",
    "    print('isosceles triangle')\n",
    "elif (l==b==h): \n",
    "    print('equilateral triangle')\n",
    "else:\n",
    "    print('scalene')"
   ]
  },
  {
   "cell_type": "code",
   "execution_count": 43,
   "id": "6f8c848e",
   "metadata": {},
   "outputs": [
    {
     "name": "stdout",
     "output_type": "stream",
     "text": [
      "enter your number:2\n",
      "enter your second number: 56\n",
      "enter your third number: 7\n",
      "56 is greater than 7 and 2\n"
     ]
    }
   ],
   "source": [
    "#Build a program that determines the largest of three given numbers.\n",
    "integer1=int(input('enter your number:'))\n",
    "integer2=int(input('enter your second number: '))\n",
    "integer3=int(input('enter your third number: '))\n",
    "if integer<0:\n",
    "    print('enter valid input')\n",
    "elif integer1>integer2 and integer2>integer3:\n",
    "        print(integer1,'is greater than', integer2,'and',integer3)\n",
    "elif integer2>integer1 and integer2>integer3:\n",
    "    print(integer2,'is greater than',integer3, 'and', integer1)\n",
    "else:\n",
    "    print(integer3,'is greater than',integer1,'and',integer2)\n",
    "    "
   ]
  },
  {
   "cell_type": "code",
   "execution_count": 58,
   "id": "ef42a364",
   "metadata": {},
   "outputs": [
    {
     "name": "stdout",
     "output_type": "stream",
     "text": [
      "enter a character e\n",
      "e is vowel\n",
      "consonant\n"
     ]
    }
   ],
   "source": [
    "#Develop a program that checks whether a character is a vowel or a consonant.\n",
    "char = str(input('enter a character '))\n",
    "vowel = ['a','e','i','o','u']\n",
    "count=0\n",
    "for i in char:\n",
    "    for j in vowel:\n",
    "        if (i==j):\n",
    "            print(char, 'is vowel')\n",
    "else:\n",
    "    print('consonant')\n",
    "   \n",
    "        \n",
    "        \n"
   ]
  },
  {
   "cell_type": "code",
   "execution_count": 4,
   "id": "3e0c3d8a",
   "metadata": {},
   "outputs": [
    {
     "name": "stdout",
     "output_type": "stream",
     "text": [
      "24785.0\n"
     ]
    }
   ],
   "source": [
    "#Create a program to calculate the total cost of a shopping cart based on discounts.\n",
    "def discount(q):\n",
    "        if q > 20:\n",
    "            return .5\n",
    "        elif q >= 20:\n",
    "            return .7\n",
    "        elif q >= 10:\n",
    "            return .8\n",
    "        elif q >= 7:\n",
    "            return .9\n",
    "        elif q >= 5:\n",
    "            return .95\n",
    "        else:\n",
    "            return 1    \n",
    "\n",
    "class Product:    \n",
    "    def __init__(self, name, price, count):\n",
    "        self.name = name\n",
    "        self.price = price\n",
    "        self.count =  count    \n",
    "\n",
    "class Cart:        \n",
    "    def __init__(self, *products_list):\n",
    "        self.products_list = products_list\n",
    "    \n",
    "    def get_total_price(self):\n",
    "        return sum([i.price*i.count*discount(i.count) for i in self.products_list[0]])\n",
    "\n",
    "        \n",
    "products = (Product('p1',10,4),Product('p2',100,5),Product('p3',200,6),Product('p4',300,7),\n",
    "            Product('p5',400,9),Product('p6',500,10),Product('p7',1000,20))\n",
    "cart = Cart(products)\n",
    "print(cart.get_total_price())"
   ]
  },
  {
   "cell_type": "code",
   "execution_count": null,
   "id": "b665434f",
   "metadata": {},
   "outputs": [],
   "source": []
  },
  {
   "cell_type": "code",
   "execution_count": 5,
   "id": "60d4c900",
   "metadata": {},
   "outputs": [
    {
     "name": "stdout",
     "output_type": "stream",
     "text": [
      "enter your number:4\n",
      "4 is even\n"
     ]
    }
   ],
   "source": [
    "#Write a program that checks if a given number is even or odd.\n",
    "num = int(input(\"enter your number:\"))\n",
    "if num%2==0:\n",
    "    print(num, 'is even')\n",
    "elif num%2!=0:\n",
    "    print(num,'is odd')\n",
    "else:\n",
    "    print(\"enter valid input\")\n",
    "    "
   ]
  },
  {
   "cell_type": "markdown",
   "id": "764542ed",
   "metadata": {},
   "source": [
    "INTERMEDIATE LEVEL"
   ]
  },
  {
   "cell_type": "code",
   "execution_count": 51,
   "id": "3aae3c04",
   "metadata": {},
   "outputs": [
    {
     "name": "stdout",
     "output_type": "stream",
     "text": [
      "enter a: 12\n",
      "enter b: 22\n",
      "enter c: 3\n",
      "the roots of a quadratic equation 88.63453348751464\n",
      "the roots of a quadratic equation -132.63453348751466\n"
     ]
    }
   ],
   "source": [
    "#Write a program that calculates the roots of a quadratic equation\n",
    "#x = (-b ± √ (b2 - 4ac) )/2a.\n",
    "import math\n",
    "a=int(input('enter a: '))\n",
    "b=int(input('enter b: '))\n",
    "c=int(input('enter c: '))\n",
    "D=(b*b - 4*a*c)\n",
    "x = -(b)+math.sqrt(D)/2*a\n",
    "y = -(b)-math.sqrt(D)/2*a\n",
    "print('the roots of a quadratic equation',x)\n",
    "print('the roots of a quadratic equation',y)"
   ]
  },
  {
   "cell_type": "code",
   "execution_count": 11,
   "id": "1adca158",
   "metadata": {},
   "outputs": [
    {
     "name": "stdout",
     "output_type": "stream",
     "text": [
      "enter the day as number: 4\n",
      "4 is thursday\n"
     ]
    }
   ],
   "source": [
    "#Create a program that determines the day of the week based on the day \n",
    "#number (1-7).\n",
    "day = int(input(\"enter the day as number: \"))\n",
    "if (day==1):\n",
    "    print(day,'is monday')\n",
    "elif (day==2):\n",
    "    print(day,'is tuesday')\n",
    "elif (day==3):\n",
    "    print(day, 'is wednesday')\n",
    "elif day==4:\n",
    "    print(day,'is thursday')\n",
    "elif day==5:\n",
    "    print(day,'is friday')\n",
    "elif day==6:\n",
    "    print(day,'is saturday')\n",
    "elif day==7:\n",
    "    print(day,'is sunday')\n",
    "else:\n",
    "    print('enter valid input')"
   ]
  },
  {
   "cell_type": "code",
   "execution_count": 22,
   "id": "e637e13d",
   "metadata": {},
   "outputs": [
    {
     "data": {
      "text/plain": [
       "6"
      ]
     },
     "execution_count": 22,
     "metadata": {},
     "output_type": "execute_result"
    }
   ],
   "source": [
    "#Develop a program that calculates the factorial of a given number using recursion.\n",
    "#num = int(input('enter a number: '))\n",
    "count=0\n",
    "def fact(num):\n",
    "    if num==0:\n",
    "        return 1\n",
    "    else:\n",
    "        return num*(fact(num-1))\n",
    "fact(3)\n",
    "\n",
    "\n",
    "    "
   ]
  },
  {
   "cell_type": "code",
   "execution_count": 23,
   "id": "907553e1",
   "metadata": {},
   "outputs": [
    {
     "name": "stdout",
     "output_type": "stream",
     "text": [
      "enter first num 2\n",
      "enter second num 3\n",
      "enter third num 1\n",
      "3 is the largest\n"
     ]
    }
   ],
   "source": [
    "### Write a program to find the largest among three numbers without \n",
    "#using the `max()` function.\n",
    "num1=int(input('enter first num '))\n",
    "num2 = int(input('enter second num '))\n",
    "num3 = int(input('enter third num '))\n",
    "if num1>num2>num3 or num1>num3>num2:\n",
    "    print(num1,'is the largest')\n",
    "elif num2>num1>num3:\n",
    "    print(num2,'is the largest')\n",
    "elif num3>num2>num1:\n",
    "    print(num3,'is the largest')"
   ]
  },
  {
   "cell_type": "code",
   "execution_count": 25,
   "id": "476dd6a6",
   "metadata": {},
   "outputs": [
    {
     "name": "stdout",
     "output_type": "stream",
     "text": [
      "enter a num as your choice of transaction: 3\n",
      "show balance\n"
     ]
    }
   ],
   "source": [
    "#Create a program that simulates a basic ATM transaction menu.\n",
    "choice=int(input(\"enter a num as your choice of transaction: \"))\n",
    "if choice==1:\n",
    "    print('cash withdrwal')\n",
    "elif choice==2:\n",
    "    print('cash deposit')\n",
    "elif choice==3:\n",
    "    print('show balance')\n",
    "elif choice==4:\n",
    "    print('choose acc type')\n",
    "else:\n",
    "    print('return to previous menu')"
   ]
  },
  {
   "cell_type": "code",
   "execution_count": 34,
   "id": "d5e5327f",
   "metadata": {},
   "outputs": [
    {
     "name": "stdout",
     "output_type": "stream",
     "text": [
      "enter your given string:mom\n",
      "mom\n",
      "mom is palindrome\n"
     ]
    }
   ],
   "source": [
    "#Build a program that checks if a given string is a palindrome or not.\n",
    "mystr=str(input('enter your given string:'))\n",
    "newstr=mystr[::-1]\n",
    "print(newstr)\n",
    "if mystr==newstr:\n",
    "    print(mystr,'is palindrome')\n",
    "\n",
    "else:\n",
    "    print(mystr,'is not palindrome')\n",
    "    "
   ]
  },
  {
   "cell_type": "code",
   "execution_count": 44,
   "id": "8d0413e5",
   "metadata": {},
   "outputs": [
    {
     "name": "stdout",
     "output_type": "stream",
     "text": [
      "[2, 3, 4, 5, 6, 7, 8]\n",
      "17.5\n"
     ]
    }
   ],
   "source": [
    "#Write a program that calculates the average of a list of numbers,\n",
    "#excluding the smallest and largest values.\n",
    "lst = [1,2,3,4,5,6,7,8,9]\n",
    "mylst = lst[1:8]\n",
    "print(mylst)\n",
    "count=0\n",
    "a1=[]\n",
    "for i in mylst:\n",
    "    count=count+i\n",
    "    a1=sum(mylst)/2\n",
    "print(a1)\n",
    "    "
   ]
  },
  {
   "cell_type": "code",
   "execution_count": 45,
   "id": "a052a69b",
   "metadata": {},
   "outputs": [
    {
     "name": "stdout",
     "output_type": "stream",
     "text": [
      "Enter the Temperature in Celsius :\n",
      "23\n",
      "Temperature in Fahrenheit : 73.4\n"
     ]
    }
   ],
   "source": [
    "#Develop a program that converts a given temperature from Celsius to \n",
    "#Fahrenheit.\n",
    "celsius = int(input(\"Enter the Temperature in Celsius :\\n\"))\n",
    "fahrenheit = (1.8 * celsius) + 32\n",
    "print(\"Temperature in Fahrenheit :\", fahrenheit)"
   ]
  },
  {
   "cell_type": "code",
   "execution_count": 47,
   "id": "c2bd8f2c",
   "metadata": {},
   "outputs": [
    {
     "name": "stdout",
     "output_type": "stream",
     "text": [
      "Select Operations\n",
      "1. Addition\n",
      "2. Subtraction\n",
      "3. Multiplication\n",
      "4. Division\n",
      "\n",
      "Enter choice of operation 1/2/3/4: 1\n",
      "Enter the First Number: 12\n",
      "Enter the Second Number: 22\n",
      "12.0 + 22.0 = 34.0\n"
     ]
    }
   ],
   "source": [
    "#Create a program that simulates a basic calculator for addition, \n",
    "#subtraction, multiplication, and division.\n",
    "def addition(n1, n2):\n",
    "    return n1 + n2\n",
    "\n",
    "# Subtraction\n",
    "\n",
    "def subtraction(n1, n2):\n",
    "    return n1 - n2\n",
    "\n",
    "# Multiplication\n",
    "\n",
    "def multiplication(n1, n2):\n",
    "    return n1 * n2\n",
    "\n",
    "# Division\n",
    "\n",
    "def division(n1, n2):\n",
    "    return n1 / n2\n",
    "\n",
    "\n",
    "print(\"Select Operations\")\n",
    "print(\n",
    "    \"1. Addition\\n\"\\\n",
    "    \"2. Subtraction\\n\"\\\n",
    "    \"3. Multiplication\\n\"\\\n",
    "    \"4. Division\\n\")\n",
    "\n",
    "operation = int(input(\"Enter choice of operation 1/2/3/4: \"))\n",
    "n1 = float(input(\"Enter the First Number: \"))\n",
    "n2 = float(input(\"Enter the Second Number: \"))\n",
    "if operation == 1:\n",
    "    print (n1, \"+\", n2, \"=\", addition(n1, n2))\n",
    "\n",
    "elif operation == 2:\n",
    "    print (n1, \"-\", n2, \"=\", subtraction(n1, n2)) \n",
    "\n",
    "elif operation == 3:\n",
    "    print (n1, \"*\", n2, \"=\", multiplication(n1, n2)) \n",
    "    \n",
    "elif operation == 4:\n",
    "    print (n1, \"/\", n2, \"=\", division(n1, n2)) \n",
    "    \n",
    "else:\n",
    "    print(\"Invalid Input\")\n"
   ]
  },
  {
   "cell_type": "code",
   "execution_count": 48,
   "id": "fe89824e",
   "metadata": {},
   "outputs": [],
   "source": [
    "#Write a program that determines the roots of a cubic equation using \n",
    "#the Cardano formula.\n",
    "def solve(a,b,c,d):\n",
    "    Q = (3*a*c - (b**2)) / (9*(a**2))\n",
    "    R = (9*a*b*c - 27*(a**2)*d - 2*(b**3)) / (54*(a**3))\n",
    "    D = (Q**3) + (R**2)\n",
    "    S = (R + (D**(1/2)))**(1/3)\n",
    "    T = (R - (D**(1/2)))**(1/3)\n",
    "\n",
    "    x1 = S + T - (b/(3*a))\n",
    "    x2 = -((S + T)/2) - (b/(3*a)) + 0.5j * (3**(1/2)) * (S - T)\n",
    "    x3 = -((S + T)/2) - (b/(3*a)) - 0.5j * (3**(1/2)) * (S - T)\n",
    "\n",
    "    return (x1,x2,x3)"
   ]
  },
  {
   "cell_type": "code",
   "execution_count": 49,
   "id": "09b74a62",
   "metadata": {},
   "outputs": [
    {
     "data": {
      "text/plain": [
       "((0.42697045480630835+1.199502715028224j),\n",
       " (-0.17468540428030588-0.8521365428250519j),\n",
       " (-2.252285050526002-0.3473661722031721j))"
      ]
     },
     "execution_count": 49,
     "metadata": {},
     "output_type": "execute_result"
    }
   ],
   "source": [
    "solve(1,2,3,4)"
   ]
  },
  {
   "cell_type": "markdown",
   "id": "16cb7e09",
   "metadata": {},
   "source": [
    "ADVANCED LEVEL"
   ]
  },
  {
   "cell_type": "code",
   "execution_count": 18,
   "id": "55927006",
   "metadata": {},
   "outputs": [
    {
     "name": "stdout",
     "output_type": "stream",
     "text": [
      "enter your LPA: 2300000\n",
      "enter your LTA: 23000\n",
      "net_income 2227000.0\n"
     ]
    }
   ],
   "source": [
    "#Create a program that calculates the income tax based on the user's income and tax brackets.\n",
    "user_gross_income=float(input('enter your LPA: '))\n",
    "lta=float(input('enter your LTA: '))\n",
    "hra=50000\n",
    "net_income=user_gross_income-hra-lta\n",
    "print('net_income',net_income)\n",
    "Taxable_income=0\n",
    "\n",
    "def tax_calc(net_income):\n",
    "    if net_income==0:\n",
    "        print('income cannot be zero')\n",
    "    else:\n",
    "        if net_income<=250000:\n",
    "            print('not taxable income')\n",
    "        elif (250000<=net_income<= 500000):\n",
    "            Taxable_income=(net_income+(5/100*net_income))\n",
    "            print (Taxable_income)\n",
    "        elif 500000<=user_income<=1000000:\n",
    "            Taxable_income=net_income+(20/100*net_income)\n",
    "            print (Taxable_income)\n",
    "        elif user_income>1000000:\n",
    "            Taxable_income=net_income+(30/100*net_income)\n",
    "            print (Taxable_income)\n",
    "        else:\n",
    "            print('enter valid input')\n",
    "\n",
    "    \n"
   ]
  },
  {
   "cell_type": "code",
   "execution_count": 19,
   "id": "ab631810",
   "metadata": {},
   "outputs": [
    {
     "name": "stdout",
     "output_type": "stream",
     "text": [
      "2895100.0\n"
     ]
    }
   ],
   "source": [
    "tax_calc(net_income)"
   ]
  },
  {
   "cell_type": "code",
   "execution_count": 8,
   "id": "314ee7af",
   "metadata": {},
   "outputs": [
    {
     "name": "stdout",
     "output_type": "stream",
     "text": [
      "enter your choice :rock,scissor,paper: 1\n",
      "player wins!\n",
      "Tie\n",
      "computer wins!\n"
     ]
    }
   ],
   "source": [
    "#Write a program that simulates a rock-paper-scissors game against the computer.\n",
    "import random\n",
    "play=['rock','scissor','paper']\n",
    "player = int(input('enter your choice :rock,scissor,paper: '))\n",
    "#while player==False:\n",
    "computer=play[(random.randint(0,2))]\n",
    "try:\n",
    "    for player in play:   \n",
    "        if (computer==player):\n",
    "            print('Tie')\n",
    "        elif (player=='rock'):\n",
    "            if (computer=='paper'):\n",
    "                print('player wins!')\n",
    "            else:\n",
    "                print('computer wins',computer,'smashes',player)\n",
    "        elif player=='paper':\n",
    "            if computer=='scissor':\n",
    "                print('computer wins!')\n",
    "            else:\n",
    "                print('player wins',scissor,'cuts',paper)\n",
    "        elif player=='scissor':\n",
    "            if computer=='rock':\n",
    "                print('player loose!')\n",
    "            else:\n",
    "                print('computer wins',rock,'smaches',scissor)\n",
    "        else:\n",
    "            print(\"That's not a valid play. Check the spelling!\") \n",
    "        player = True\n",
    "        computer = play[random.randint(0,2)]  \n",
    "except:\n",
    "    pass\n",
    "    "
   ]
  },
  {
   "cell_type": "code",
   "execution_count": 25,
   "id": "da7cf265",
   "metadata": {},
   "outputs": [
    {
     "name": "stdout",
     "output_type": "stream",
     "text": [
      "A randomly generated Password is: #(5p(fJr\n"
     ]
    }
   ],
   "source": [
    "#Develop a program that generates a random password based on user preferences (length, complexity).\n",
    "import random\n",
    "import string\n",
    "def gen_password(len):\n",
    "    list_of_chars = \"ABCDEFGHIJKLMNOPQRSTUVWXYZabcdefghijklmnopqrstuvwxyz1234567890!@#$%^&*()\"  \n",
    "    mystr=\"\"\n",
    "    for i in range (len):\n",
    "         mystr= mystr+random.choice(list_of_chars)\n",
    "    return mystr\n",
    "len=8\n",
    "mystr=gen_password(len)\n",
    "print(\"A randomly generated Password is:\", mystr)  \n",
    "        \n"
   ]
  },
  {
   "cell_type": "code",
   "execution_count": 40,
   "id": "bbe99b78",
   "metadata": {},
   "outputs": [
    {
     "name": "stdout",
     "output_type": "stream",
     "text": [
      "Dungeouns of Dragons!\n",
      "enter your name:anwesha\n",
      "welcome anwesha  to the land of dragons!\n",
      "press right arrow key to move right, press left arrow key to move right\n",
      "press up arrow key to jump up and down arrow key to go down\n",
      "starting your journey in 3,2,1.........\n",
      "you have an aim to hunt down that dragon which resides the life of the red scoccer, she is extremely powerfull and trying to take the kingdom down, you have a magic shovel to hunt the dragon down, hence take the red scoccer down from her game.You are aiing for a direct knock out with the dragon, it apperas right above you, based on your directions given press the appropriate key to fly and take the creature down !\n",
      "move to fly up:up\n",
      "up\n",
      "you are flying neck to neck with the creature,press appropriate keys to attack first !\n",
      "choose and enter your move from the moves list:flap\n",
      "hurrey ! you hit the first move\n",
      "after the first move, the dragon slowed its pace,\n",
      "choose and enter your move from the moves list: deep cut\n",
      "attack sucessfull\n",
      "choose and enter your move from the moves list: knock out\n",
      "BINGO ! VICTROY\n"
     ]
    }
   ],
   "source": [
    "#Create a program that implements a simple text-based adventure game with branching scenarios.\n",
    "print('Dungeouns of Dragons!')\n",
    "\n",
    "name=input('enter your name:')\n",
    "print('welcome',name,' to the land of dragons!')\n",
    "move_lr=print('press right arrow key to move right, press left arrow key to move right')\n",
    "move_ud=print('press up arrow key to jump up and down arrow key to go down')\n",
    "print('starting your journey in 3,2,1.........')\n",
    "#while True:\n",
    "def first_scene():\n",
    "    directions=['left','right','up','down']\n",
    "    moves=[\"knock out\",\"flap\",\"take down\",\"deep cut\"]\n",
    "    print(\"you have an aim to hunt down that dragon which resides the life of the red scoccer, she is extremely powerfull and trying to take the kingdom down, you have a magic shovel to hunt the dragon down, hence take the red scoccer down from her game.You are aiing for a direct knock out with the dragon, it apperas right above you, based on your directions given press the appropriate key to fly and take the creature down !\")\n",
    "    move_user1=print(input('move to fly up:'))\n",
    "    print('you are flying neck to neck with the creature,press appropriate keys to attack first !')\n",
    "    move_user2=input('choose and enter your move from the moves list:')\n",
    "    if move_user2==\"flap\":\n",
    "        print('hurrey ! you hit the first move')\n",
    "    elif move_user2=='deep cut':\n",
    "        print('not an appropriate move counted as first')\n",
    "\n",
    "    else:\n",
    "        print('choose the appropriate first move from the move list')\n",
    "    print('after the first move, the dragon slowed its pace,')\n",
    "    move_user3=input('choose and enter your move from the moves list: ')\n",
    "    if move_user3=='take down' or move_user3==\"deep cut\":\n",
    "        print('attack sucessfull')\n",
    "    move_user4 =input('choose and enter your move from the moves list: ')\n",
    "    if move_user4==\"knock out\":\n",
    "        print('BINGO ! VICTROY')\n",
    "    else:\n",
    "        print('enter valid input')\n",
    "first_scene()  "
   ]
  },
  {
   "cell_type": "code",
   "execution_count": 12,
   "id": "fa5a3c26",
   "metadata": {},
   "outputs": [
    {
     "name": "stdout",
     "output_type": "stream",
     "text": [
      "enter the value of a : 23\n",
      "enter the value of b : 45\n",
      "enter the value of c : 56\n",
      "enter the value of y : 67\n",
      "128.65217391304347\n",
      "-128.65217391304347\n"
     ]
    }
   ],
   "source": [
    "#Build a program that solves a linear equation for x, considering different cases.\n",
    "#ax+by=c\n",
    "\n",
    "a=int(input('enter the value of a : '))\n",
    "b=int(input('enter the value of b : '))\n",
    "c=int(input('enter the value of c : '))\n",
    "y=int(input('enter the value of y : '))\n",
    "x=-(c-(b*y))/a\n",
    "x1=(c-(b*y))/a\n",
    "\n",
    "print(x)\n",
    "print(x1)"
   ]
  },
  {
   "cell_type": "code",
   "execution_count": 25,
   "id": "90103705",
   "metadata": {},
   "outputs": [
    {
     "name": "stdout",
     "output_type": "stream",
     "text": [
      "is red a color\n",
      "enter your ans: yes\n",
      "enter your choices after space: yes or noyes\n",
      "answer is correct: secured 10 marks\n",
      "['yes']\n",
      "is sky pink ?\n",
      "enter your ans: no\n",
      "enter your choices after space: yes or no: no\n",
      "wrong answers, secured zero marks \n"
     ]
    }
   ],
   "source": [
    "#Write a program that simulates a basic quiz game with multiple-choice questions and scoring.\n",
    "score=[]\n",
    "question_1 = 'is red a color ?'\n",
    "print(question)\n",
    "ans1 = input('enter your ans: ')\n",
    "choice1 = (input('enter your choices after space: yes or no'))\n",
    "if (choice1 == \"yes\"):\n",
    "    print('answer is correct: secured 10 marks')\n",
    "    score.append(choice1)\n",
    "    print(score)\n",
    "    \n",
    "else:\n",
    "    print('wrong answers, secured zero marks ')\n",
    "question2 = 'is sky pink ?'\n",
    "print(question2)\n",
    "ans2 = input('enter your ans: ')\n",
    "choice2 = (input('enter your choices after space: yes or no: '))\n",
    "if (choice2 == \"yes\"):\n",
    "    print('answer is correct: secured 10 marks')\n",
    "    score.append(choice2)\n",
    "    print(choice2)\n",
    "elif choice2=='no':\n",
    "    print(\"wrong answers, secured zero marks \")\n",
    "    \n",
    "else:\n",
    "    print('enter valid input')\n"
   ]
  },
  {
   "cell_type": "code",
   "execution_count": 25,
   "id": "3d495b32",
   "metadata": {},
   "outputs": [
    {
     "name": "stdout",
     "output_type": "stream",
     "text": [
      "enter your year : 2029\n",
      "2029 year is a prime number year\n"
     ]
    }
   ],
   "source": [
    "#Develop a program that determines whether a given year is a prime number or not.\n",
    "year = int(input('enter your year : '))\n",
    "#prime = [2, 3, 5, 7, 11, 13, 17, 19, 23, 29, 31, 37, 41, 43, 47, 53, 59, 61, 67, 71, 73, 79, 83, 89, 97]\n",
    "\n",
    "if (year%1==0) and (year%2 != 0) and (year%year==0):\n",
    "    print(year,'year is a prime number year')\n",
    "else:\n",
    "    print(year, 'year is not a prime number year')"
   ]
  },
  {
   "cell_type": "code",
   "execution_count": null,
   "id": "4ce37057",
   "metadata": {},
   "outputs": [],
   "source": [
    "#another approach\n",
    "from sympy import *\n",
    "year = (input('enter your year : '))\n",
    "isprime(year)"
   ]
  },
  {
   "cell_type": "code",
   "execution_count": 38,
   "id": "3cfdda3e",
   "metadata": {},
   "outputs": [
    {
     "name": "stdout",
     "output_type": "stream",
     "text": [
      "enter your first number: 1\n",
      "enter your second number: 2\n",
      "enter your third number: 3\n",
      "3.0 > 2.0 > 1.0\n"
     ]
    }
   ],
   "source": [
    "#Create a program that sorts three numbers in ascending order using conditional statements.\n",
    "num1 = float(input('enter your first number: '))\n",
    "num2 = float(input('enter your second number: '))\n",
    "num3 = float(input('enter your third number: '))\n",
    "arr=[]\n",
    "if num1>num2 and num1>num3:\n",
    "    print ( num1 ,'>',num2,'>',num3)\n",
    "elif num2>num3 and num2>num1:\n",
    "    \n",
    "    print ( num2 ,'>',num1,'>',num3)\n",
    "elif num3>num2 and num3>num1:\n",
    "    print(num3, '>', num2,'>',num1)\n",
    "    \n",
    "    \n",
    "    "
   ]
  },
  {
   "cell_type": "code",
   "execution_count": null,
   "id": "d0a450a3",
   "metadata": {},
   "outputs": [],
   "source": [
    "#### another approach\n",
    "num1 = float(input('enter your first number: '))\n",
    "num2 = float(input('enter your second number: '))\n",
    "num3 = float(input('enter your third number: '))\n",
    "arr = [num1,num2,num3]\n",
    "set(arr)"
   ]
  },
  {
   "cell_type": "code",
   "execution_count": 42,
   "id": "8715973c",
   "metadata": {},
   "outputs": [
    {
     "name": "stdout",
     "output_type": "stream",
     "text": [
      "a= 2\n",
      "b= 3\n",
      "c= 3\n",
      "4.242640687119285j\n",
      "3.4641016151377544\n"
     ]
    }
   ],
   "source": [
    "#Build a program that determines the roots of a quartic equation using numerical methods.\n",
    "#-b+-(b^2-4ac)^1/2/2a\n",
    "a=int(input('a= '))\n",
    "b=int(input('b= '))\n",
    "c=int(input('c= '))\n",
    "dis_0 = -b + (b*b - 4*a*c)\n",
    "dis_1 = -b - (b*b - 4*a*c)\n",
    "eqn_0=dis_0/2*a\n",
    "eqn_1=dis_1/2*a\n",
    "import math\n",
    "import numpy as np\n",
    "print(np.emath.sqrt(eqn_0))\n",
    "print(np.emath.sqrt(eqn_1))"
   ]
  },
  {
   "cell_type": "code",
   "execution_count": 34,
   "id": "2de0ef65",
   "metadata": {},
   "outputs": [],
   "source": [
    "#Write a program that calculates the BMI (Body Mass Index) and provides health recommendations based\n",
    "#on the user's input.\n",
    "weight= float(input('enter your weight'))\n",
    "if weight<=18.5:\n",
    "    print('under weight')\n",
    "elif 18.5<=weight<=24.9:\n",
    "    print('healthy weight range')\n",
    "elif  25.0<=weight<=29.9:\n",
    "    print('over weight')\n",
    "else:\n",
    "    print('enter valid BMI range')"
   ]
  },
  {
   "cell_type": "markdown",
   "id": "e37663fd",
   "metadata": {},
   "source": [
    "CHALLENGE LEVEL"
   ]
  },
  {
   "cell_type": "code",
   "execution_count": 49,
   "id": "e07d0b98",
   "metadata": {},
   "outputs": [
    {
     "name": "stdout",
     "output_type": "stream",
     "text": [
      "enter your password : poiuytrew34567\n"
     ]
    }
   ],
   "source": [
    "#31.Create a program that validates a password based on complexity rules (length, characters, etc.).\n",
    "password = input('enter your password : ')\n",
    "characters = ['!','@','#','$','%','^','&','*']\n",
    "num = [1,2,3,4,5,6,7,8,9]\n",
    "if (len(password)<=8):\n",
    "    print( \"invalid\")\n",
    "for k in num:\n",
    "    for m in password:\n",
    "        if (m==k):\n",
    "            print('numbers detected',k)\n",
    "for i in characters :\n",
    "    for j in password:\n",
    "        if (i==j):\n",
    "            print('special  characters detected:',j)\n"
   ]
  },
  {
   "cell_type": "code",
   "execution_count": 66,
   "id": "3a73d246",
   "metadata": {},
   "outputs": [
    {
     "name": "stdout",
     "output_type": "stream",
     "text": [
      "enter action : add for addition & subs for subtraction add\n",
      "add\n",
      "[[ 6  8 10]\n",
      " [10 13  9]]\n"
     ]
    }
   ],
   "source": [
    "#32. Develop a program that performs matrix addition and subtraction based on user input.\n",
    "import numpy as np\n",
    "arr_a =np.array([[1, 2, 3],[4,5,6]])\n",
    "arr_b = np.array([[5, 6, 7],[6,8,3]])\n",
    "\n",
    "action = input('enter action : add for addition & subs for subtraction ')\n",
    "print(action)\n",
    "if (action=='add'):\n",
    "    print(np.add(arr_a,arr_b))\n",
    "elif (action=='subtract'):\n",
    "    print(np.subtract(arr_a,arr_b))"
   ]
  },
  {
   "cell_type": "code",
   "execution_count": 63,
   "id": "f1c51526",
   "metadata": {},
   "outputs": [
    {
     "name": "stdout",
     "output_type": "stream",
     "text": [
      "The gcd of 60 and 48 is : 12\n"
     ]
    }
   ],
   "source": [
    "#33. Write a program that calculates the greatest common divisor (GCD) of two numbers using the Euclidean\n",
    "#algorithm.\n",
    "def hcf(a, b):\n",
    "    if(b == 0):\n",
    "        return a\n",
    "    else:\n",
    "        return hcf(b, a % b)\n",
    "a = 60\n",
    "b = 48\n",
    "print(\"The gcd of 60 and 48 is : \", end=\"\")\n",
    "print(hcf(60, 48))"
   ]
  },
  {
   "cell_type": "code",
   "execution_count": 75,
   "id": "9e128623",
   "metadata": {},
   "outputs": [
    {
     "name": "stdout",
     "output_type": "stream",
     "text": [
      "[21, 24, 11]\n",
      "[68, 78, 40]\n"
     ]
    }
   ],
   "source": [
    "#34. Build a program that performs matrix multiplication using nested loops and conditional statements.\n",
    "count=0\n",
    "import numpy as np\n",
    "x =np.array([[1, 2, 3],[4, 6, 8]])\n",
    "\n",
    "y = np.array([[5, 6, 7],[8, 9, 2]])\n",
    "result = [[0,0,0],[0,0,0]]\n",
    "for i in range(len(x)):\n",
    "   # iterate through columns of Y\n",
    "   for j in range(len(y[0])):\n",
    "       # iterate through rows of Y\n",
    "       for k in range(len(y)):\n",
    "            result[i][j] += x[i][k] * y[k][j]\n",
    "\n",
    "for r in result:\n",
    "    print(r)\n"
   ]
  },
  {
   "cell_type": "code",
   "execution_count": 8,
   "id": "8c6b66df",
   "metadata": {},
   "outputs": [
    {
     "name": "stdout",
     "output_type": "stream",
     "text": [
      "welcome to tic tac toe\n",
      "0 |1 |2\n",
      "--|--|--\n",
      "3 |4 |5\n",
      "--|--|--\n",
      "6 |7 |8\n",
      "x's chance\n",
      "please enter a value :2\n",
      "0 |1 |x\n",
      "--|--|--\n",
      "3 |4 |5\n",
      "--|--|--\n",
      "6 |7 |8\n",
      "o's chance\n",
      "please enter a value :3\n",
      "0 |1 |x\n",
      "--|--|--\n",
      "o |4 |5\n",
      "--|--|--\n",
      "6 |7 |8\n",
      "x's chance\n",
      "please enter a value :6\n",
      "0 |1 |x\n",
      "--|--|--\n",
      "o |4 |5\n",
      "--|--|--\n",
      "x |7 |8\n",
      "o's chance\n",
      "please enter a value :5\n",
      "0 |1 |x\n",
      "--|--|--\n",
      "o |4 |o\n",
      "--|--|--\n",
      "x |7 |8\n",
      "x's chance\n",
      "please enter a value :4\n",
      "x won the match\n",
      "Match over !\n"
     ]
    }
   ],
   "source": [
    "#Create a program that simulates a basic text-based tic-tac-toe game against the computer.\n",
    "def sum(a,b,c):\n",
    "    return a+b+c\n",
    "\n",
    "def printboard(xstate,zstate):\n",
    "    zero= 'x' if xstate[0] else ('o' if zstate[0] else 0)\n",
    "    one='x' if xstate[1] else ('o' if zstate[1] else 1)\n",
    "    two='x' if xstate[2] else ('o' if zstate[2]else 2)\n",
    "    three='x' if xstate[3] else ('o' if zstate[3]else 3)\n",
    "    four='x' if xstate[4] else ('o' if zstate[4]else 4)\n",
    "    five='x' if xstate[5] else ('o' if zstate[5]else 5)\n",
    "    six='x' if xstate[6] else ('o' if zstate[6]else 6)\n",
    "    seven='x' if xstate[7] else ('o' if zstate[7]else 7)\n",
    "    eight='x' if xstate[8] else ('o' if zstate[8]else 8)\n",
    "    \n",
    "    print(f\"{zero} |{one} |{two}\")\n",
    "    print(f\"--|--|--\")\n",
    "    print(f\"{three} |{four} |{five}\")\n",
    "    print(f\"--|--|--\")\n",
    "    print(f\"{six} |{seven} |{eight}\")\n",
    "\n",
    "def checkwin(xstate,zstate):\n",
    "    wins=[[0,1,2],[3,4,5],[6,7,8],[0,3,6],[1,4,7],[2,5,8],[0,4,8],[2,4,6]]\n",
    "    for win in wins:\n",
    "        if(sum(xstate[win[0]],xstate[win[1]],xstate[win[2]])== 3):\n",
    "            print(\"x won the match\")\n",
    "            return 1\n",
    "        if (sum(zstate[win[0]],zstate[win[1]],zstate[win[2]])== 3):\n",
    "            print(\"o won the match\")\n",
    "            return 0\n",
    "    return -1\n",
    "    \n",
    "if __name__== \"__main__\":\n",
    "    xstate=[0,0,0,0,0,0,0,0,0]\n",
    "    zstate=[0,0,0,0,0,0,0,0,0]\n",
    "    turn = 1 #1 for x stae, 0 for o state\n",
    "    print('welcome to tic tac toe')\n",
    "    while (True):\n",
    "        printboard(xstate,zstate)\n",
    "        if (turn ==1):\n",
    "            print(\"x's chance\")\n",
    "            value=int(input('please enter a value :'))\n",
    "            xstate[value] = 1\n",
    "        else:\n",
    "            print(\"o's chance\")\n",
    "            value=int(input('please enter a value :'))\n",
    "            zstate[value] = 1\n",
    "        cwin = checkwin(xstate,zstate)\n",
    "        if (cwin != -1):\n",
    "            print(\"Match over !\")\n",
    "            break\n",
    "        \n",
    "        turn = 1 - turn\n",
    "            \n",
    "                "
   ]
  },
  {
   "cell_type": "code",
   "execution_count": 8,
   "id": "af0111ba",
   "metadata": {},
   "outputs": [
    {
     "name": "stdout",
     "output_type": "stream",
     "text": [
      "Enter the terms? 13\n",
      "Fibonacci sequence:\n",
      "0\n",
      "1\n",
      "1\n",
      "2\n",
      "3\n",
      "5\n",
      "8\n",
      "13\n",
      "21\n",
      "34\n",
      "55\n",
      "89\n",
      "144\n"
     ]
    }
   ],
   "source": [
    "#Write a program that generates Fibonacci numbers up to a specified term using iterative methods.\n",
    "#using recursion\n",
    "def FibRec(a):  \n",
    "\n",
    "    if a <= 1:  \n",
    "        return a  \n",
    "\n",
    "    else:  \n",
    "        return(FibRec(a-1) + FibRec(a-2))  \n",
    "aterms = int(input(\"Enter the terms? \")) \n",
    "if aterms <= 0:  \n",
    "    print(\"Please enter a positive integer\")  \n",
    "\n",
    "else:  \n",
    "    print(\"Fibonacci sequence:\")  \n",
    "\n",
    "for z in range(aterms):  \n",
    "    print(FibRec(z))\n",
    "\n",
    "        \n",
    "    \n",
    "    "
   ]
  },
  {
   "cell_type": "code",
   "execution_count": 14,
   "id": "eba1e99c",
   "metadata": {},
   "outputs": [
    {
     "name": "stdout",
     "output_type": "stream",
     "text": [
      "enter the number until you want to print the fibonacci series: 10\n",
      "1\n",
      "2\n",
      "3\n",
      "5\n",
      "8\n",
      "13\n",
      "21\n",
      "34\n",
      "55\n",
      "89\n",
      "144\n"
     ]
    }
   ],
   "source": [
    "##Write a program that generates Fibonacci numbers up to a specified term using iterative methods.\n",
    "num1=0\n",
    "num2=1\n",
    "count=0\n",
    "next_num=num2\n",
    "n=int(input('enter the number until you want to print the fibonacci series: '))\n",
    "while count<=n:\n",
    "    print(next_num)\n",
    "    count+=1\n",
    "    num1+num2\n",
    "    num1,num2=num2,next_num\n",
    "    next_num=num1+num2\n",
    "    "
   ]
  },
  {
   "cell_type": "code",
   "execution_count": 12,
   "id": "ea5e9a08",
   "metadata": {},
   "outputs": [
    {
     "name": "stdout",
     "output_type": "stream",
     "text": [
      "55\n"
     ]
    }
   ],
   "source": [
    "#37. Develop a program that calculates the nth term of the Fibonacci sequence using memoization.\n",
    "#n=int(input('enter the number until you want to print the fibonacci series: '))\n",
    "def gen_fib(n):\n",
    "    if n<=0:\n",
    "        print(\"enter valid input\")\n",
    "    elif n==1:\n",
    "        return 1\n",
    "    elif n==2:\n",
    "        return 1\n",
    "    else:\n",
    "        return gen_fib(n-1) + gen_fib(n-2)\n",
    "#drivers code\n",
    "print(gen_fib(10))\n",
    "    "
   ]
  },
  {
   "cell_type": "code",
   "execution_count": 7,
   "id": "c82c2b60",
   "metadata": {},
   "outputs": [
    {
     "name": "stdout",
     "output_type": "stream",
     "text": [
      "   November 2017\n",
      "Mo Tu We Th Fr Sa Su\n",
      "       1  2  3  4  5\n",
      " 6  7  8  9 10 11 12\n",
      "13 14 15 16 17 18 19\n",
      "20 21 22 23 24 25 26\n",
      "27 28 29 30\n",
      "\n"
     ]
    }
   ],
   "source": [
    "#Create a program that generates a calendar for a given month and year using conditional statements.\n",
    "import calendar \n",
    "   \n",
    "yy = 2017\n",
    "mm = 11\n",
    "   \n",
    "# display the calendar \n",
    "print(calendar.month(yy, mm)) "
   ]
  },
  {
   "cell_type": "code",
   "execution_count": 6,
   "id": "752986f0",
   "metadata": {},
   "outputs": [
    {
     "name": "stdout",
     "output_type": "stream",
     "text": [
      "[4, 'j']\n",
      "['k', 7]\n",
      "DEALER HAND  4 and x\n",
      "YOU HAVE  ['k', 7] for a total of : 17\n",
      "1: stay /n 2: hit/n1\n",
      "DEALER HAND  (4, 'j') and x\n",
      "YOU HAVE  ['k', 7] for a total of : 17\n",
      "/n you have ['k', 7] for a total of 22 and the dealer has [4, 'j', 'a', 'k'] for a 25\n",
      "DEALER BUST! YOU WINS\n"
     ]
    }
   ],
   "source": [
    "#Build a program that simulates a basic text-based blackjack game against the computer.\n",
    "#deck of cards/player dealer had\n",
    "\n",
    "import random\n",
    "player_in = True\n",
    "dealer_in = True\n",
    "deck =[2,3,4,5,6,7,8,9,10, 'j','q','k','a','j','q','k','a','j','q','k','a','j','q','k','a']\n",
    "player_hand=[]\n",
    "dealer_hand=[]\n",
    "#delar cards\n",
    "\n",
    "def deal_card(turn):\n",
    "    card = random.choice(deck)\n",
    "    turn.append(card)\n",
    "    deck.remove(card)\n",
    "    \n",
    "#calculate the total of each hand\n",
    "def total(turn):\n",
    "    total = 0\n",
    "    face = ['j','k','q']\n",
    "    for card in turn:\n",
    "        if card in range(1,11):\n",
    "            total+= card\n",
    "        elif card in face:\n",
    "            total+=10\n",
    "        else:\n",
    "            if total>11:\n",
    "                total +=1\n",
    "            else:\n",
    "                total+= 11\n",
    "    return total\n",
    "\n",
    "#check for winner\n",
    "def reveal_dealer_hand():\n",
    "    \n",
    "    if len(dealer_hand)==2:\n",
    "        return dealer_hand[0]\n",
    "    elif len(dealer_hand)>2:\n",
    "        return dealer_hand[0], dealer_hand[1]\n",
    "#game loop\n",
    "\n",
    "for _ in range(2):\n",
    "    deal_card(dealer_hand)\n",
    "    deal_card(player_hand)\n",
    "    \n",
    "print(dealer_hand)\n",
    "print(player_hand)\n",
    "\n",
    "while player_in or dealer_in :\n",
    "    print(\"DEALER HAND \",reveal_dealer_hand(),\"and x\")\n",
    "    print(\"YOU HAVE \",player_hand,\"for a total of :\",total(player_hand))\n",
    "    \n",
    "    if player_in:\n",
    "        stay_or_hit = input(\"1: stay /n 2: hit/n\")\n",
    "        \n",
    "    if total(dealer_hand) > 16:\n",
    "        dealer_in = False\n",
    "    else:\n",
    "        deal_card(dealer_hand)\n",
    "    if stay_or_hit == '1':\n",
    "        player_in = False\n",
    "    else:\n",
    "        deal_card(player_hand)\n",
    "    if total(player_hand)>=21:\n",
    "        break\n",
    "    elif total(dealer_hand)>= 21:\n",
    "        break\n",
    "if total(player_hand) == 21:\n",
    "    print(f\"/n you have {player_hand} for a total of 22 and the dealer has {dealer_hand} for a {total(dealer_hand)}\")\n",
    "    print(\"BLACJACK ! YOU WIN !\")\n",
    "elif total(dealer_hand ) == 21 :\n",
    "    print(f\"/n you have {player_hand} for a total of 22 and the dealer has {dealer_hand} for a {total(dealer_hand)}\")\n",
    "    print(\"BLACKJACK ! dealer wins!\")\n",
    "elif total(player_hand) >21:\n",
    "    print(f\"/n you have {player_hand} for a total of 22 and the dealer has {dealer_hand} for a {total(dealer_hand)}\")\n",
    "    print(\"YOU BUST ! DEALER WINS\")\n",
    "elif total(dealer_hand)>21:\n",
    "    print(f\"/n you have {player_hand} for a total of 22 and the dealer has {dealer_hand} for a {total(dealer_hand)}\")\n",
    "    print(\"DEALER BUST! YOU WINS\")\n",
    "elif 21 - total(dealer_hand)< 21 - total(player_hand):\n",
    "    print(f\"/n you have {player_hand} for a total of 22 and the dealer has {dealer_hand} for a {total(dealer_hand)}\")\n",
    "    print(\"DEALER WINS!\")\n",
    "elif 21-total(dealer_hand)>21 - total(player_hand):\n",
    "    print(f\"/n you have {player_hand} for a total of 22 and the dealer has {dealer_hand} for a {total(dealer_hand)}\")\n",
    "    print('YOU WIN !')\n",
    "        "
   ]
  },
  {
   "cell_type": "code",
   "execution_count": 9,
   "id": "cc42fd4a",
   "metadata": {},
   "outputs": [
    {
     "name": "stdout",
     "output_type": "stream",
     "text": [
      "[2, 3, 5]\n"
     ]
    }
   ],
   "source": [
    "#40. Write a program that generates the prime factors of a given number using trial division.\n",
    "def find_prime_factors(n):\n",
    "    factorlist = []\n",
    "    factor = 2\n",
    "    while (n>1):\n",
    "        if (n % factor == 0):\n",
    "            factorlist.append(factor)\n",
    "            n = n/factor\n",
    "        else:\n",
    "            factor = factor +1\n",
    "    return(factorlist)\n",
    "\n",
    "print(find_prime_factors(30))\n",
    "            "
   ]
  },
  {
   "cell_type": "code",
   "execution_count": null,
   "id": "c803baa5",
   "metadata": {},
   "outputs": [],
   "source": []
  }
 ],
 "metadata": {
  "kernelspec": {
   "display_name": "Python 3",
   "language": "python",
   "name": "python3"
  },
  "language_info": {
   "codemirror_mode": {
    "name": "ipython",
    "version": 3
   },
   "file_extension": ".py",
   "mimetype": "text/x-python",
   "name": "python",
   "nbconvert_exporter": "python",
   "pygments_lexer": "ipython3",
   "version": "3.8.8"
  }
 },
 "nbformat": 4,
 "nbformat_minor": 5
}
